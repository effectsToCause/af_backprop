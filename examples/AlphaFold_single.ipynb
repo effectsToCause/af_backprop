{
  "nbformat": 4,
  "nbformat_minor": 0,
  "metadata": {
    "colab": {
      "name": "AlphaFold_single.ipynb",
      "provenance": [],
      "authorship_tag": "ABX9TyNiW1QJD7XNLA4W0PHrqPGY",
      "include_colab_link": true
    },
    "kernelspec": {
      "name": "python3",
      "display_name": "Python 3"
    },
    "language_info": {
      "name": "python"
    },
    "accelerator": "GPU"
  },
  "cells": [
    {
      "cell_type": "markdown",
      "metadata": {
        "id": "view-in-github",
        "colab_type": "text"
      },
      "source": [
        "<a href=\"https://colab.research.google.com/github/sokrypton/af_backprop/blob/main/examples/AlphaFold_single.ipynb\" target=\"_parent\"><img src=\"https://colab.research.google.com/assets/colab-badge.svg\" alt=\"Open In Colab\"/></a>"
      ]
    },
    {
      "cell_type": "markdown",
      "source": [
        "#AlphaFold Single\n",
        "(For DEMO purposes only, run AlphaFold with single-sequence input)"
      ],
      "metadata": {
        "id": "VpfCw7IzVHXv"
      }
    },
    {
      "cell_type": "code",
      "source": [
        "#@title Setup\n",
        "MAX_LEN =  100#@param {type:\"integer\"}\n",
        "NUM_RECYCLES = 0#@param {type:\"integer\"}\n",
        "\n",
        "from IPython.utils import io\n",
        "import os,sys\n",
        "import tensorflow as tf\n",
        "import jax\n",
        "import jax.numpy as jnp\n",
        "\n",
        "with io.capture_output() as captured:\n",
        "  if not os.path.isdir(\"af_backprop\"):\n",
        "    %shell git clone https://github.com/sokrypton/af_backprop.git\n",
        "    %shell pip -q install biopython dm-haiku==0.0.5 ml-collections py3Dmol\n",
        "    %shell wget -qnc https://raw.githubusercontent.com/sokrypton/ColabFold/main/beta/colabfold.py\n",
        "  if not os.path.isdir(\"params\"):\n",
        "    %shell mkdir params\n",
        "    %shell curl -fsSL https://storage.googleapis.com/alphafold/alphafold_params_2021-07-14.tar | tar x -C params\n",
        "\n",
        "try:\n",
        "  # check if TPU is available\n",
        "  import jax.tools.colab_tpu\n",
        "  jax.tools.colab_tpu.setup_tpu()\n",
        "  print('Running on TPU')\n",
        "  DEVICE = \"tpu\"\n",
        "except:\n",
        "  if jax.local_devices()[0].platform == 'cpu':\n",
        "    print(\"WARNING: no GPU detected, will be using CPU\")\n",
        "    DEVICE = \"cpu\"\n",
        "  else:\n",
        "    print('Running on GPU')\n",
        "    DEVICE = \"gpu\"\n",
        "    # disable GPU on tensorflow\n",
        "    tf.config.set_visible_devices([], 'GPU')\n",
        "\n",
        "import sys\n",
        "sys.path.append('/content/af_backprop')\n",
        "from utils import *\n",
        "\n",
        "# import libraries\n",
        "import colabfold as cf\n",
        "from alphafold.common import protein\n",
        "from alphafold.data import pipeline\n",
        "from alphafold.model import data, config, model\n",
        "from alphafold.common import residue_constants\n",
        "\n",
        "def clear_mem():\n",
        "  backend = jax.lib.xla_bridge.get_backend()\n",
        "  for buf in backend.live_buffers(): buf.delete()\n",
        "clear_mem()\n",
        "\n",
        "# setup model\n",
        "model_name = \"model_5_ptm\"\n",
        "cfg = config.model_config(model_name)\n",
        "cfg.model.num_recycle = NUM_RECYCLES\n",
        "cfg.data.common.num_recycle = NUM_RECYCLES\n",
        "cfg.data.eval.max_msa_clusters = 1\n",
        "cfg.data.common.max_extra_msa = 1\n",
        "cfg.data.eval.masked_msa_replace_fraction = 0\n",
        "cfg.model.global_config.subbatch_size = None\n",
        "model_params = data.get_model_haiku_params(model_name=model_name, data_dir=\".\")\n",
        "model_runner = model.RunModel(cfg, model_params, is_training=False)\n",
        "\n",
        "seq = \"A\" * MAX_LEN\n",
        "length = len(seq)\n",
        "feature_dict = {\n",
        "    **pipeline.make_sequence_features(sequence=seq, description=\"none\", num_res=length),\n",
        "    **pipeline.make_msa_features(msas=[[seq]], deletion_matrices=[[[0]*length]])\n",
        "}\n",
        "inputs = model_runner.process_features(feature_dict,random_seed=0)\n",
        "\n",
        "@jax.jit\n",
        "def runner(seq, inputs, model_params):\n",
        "\n",
        "  # update sequence\n",
        "  update_seq(seq, inputs)\n",
        "  update_aatype(inputs[\"target_feat\"][...,1:], inputs)\n",
        "\n",
        "  # mask prediction\n",
        "  mask = seq.sum(-1)\n",
        "  inputs[\"seq_mask\"] = inputs[\"seq_mask\"].at[:].set(mask)\n",
        "  inputs[\"msa_mask\"] = inputs[\"msa_mask\"].at[:].set(mask)\n",
        "  inputs[\"residue_index\"] = jnp.where(mask==1,inputs[\"residue_index\"],0)\n",
        "\n",
        "  # get prediction\n",
        "  key = jax.random.PRNGKey(0)\n",
        "  outputs = model_runner.apply(model_params, key, inputs)\n",
        "  \n",
        "  aux = {\"final_atom_positions\":outputs[\"structure_module\"][\"final_atom_positions\"],\n",
        "         \"final_atom_mask\":outputs[\"structure_module\"][\"final_atom_mask\"],\n",
        "         \"plddt\":get_plddt(outputs),\n",
        "         \"pae\":get_pae(outputs),\n",
        "         \"inputs\":inputs}\n",
        "  return aux"
      ],
      "metadata": {
        "cellView": "form",
        "id": "24ybo88aBiSU"
      },
      "execution_count": null,
      "outputs": []
    },
    {
      "cell_type": "code",
      "source": [
        "#@title Enter the amino acid sequence to fold ⬇️\n",
        "import re\n",
        "# define sequence\n",
        "sequence = 'AAAAAAAAAAAAAAAAAAAAAAAAAA' #@param {type:\"string\"}\n",
        "sequence = re.sub(\"[^A-Z]\", \"\", sequence.upper())\n",
        "LEN = len(sequence)\n",
        "\n",
        "def predict(sequence):\n",
        "  seq = np.array([residue_constants.restype_order.get(aa,-1) for aa in sequence])\n",
        "  seq = np.pad(seq,[0,MAX_LEN-seq.shape[0]],constant_values=-1)\n",
        "  outs = runner(jax.nn.one_hot(seq,20), inputs, model_params)\n",
        "  return jax.tree_map(lambda x:np.asarray(x), outs)\n",
        "\n",
        "outs = predict(sequence)"
      ],
      "metadata": {
        "cellView": "form",
        "id": "cAoC4ar8G7ZH"
      },
      "execution_count": null,
      "outputs": []
    },
    {
      "cell_type": "code",
      "source": [
        "#@title Display 3D structure {run: \"auto\"}\n",
        "color = \"chain\" #@param [\"chain\", \"lDDT\", \"rainbow\"]\n",
        "show_sidechains = False #@param {type:\"boolean\"}\n",
        "show_mainchains = False #@param {type:\"boolean\"}\n",
        "\n",
        "def save_pdb(outs, filename):\n",
        "  '''save pdb coordinates'''\n",
        "  p = {\"residue_index\":outs[\"inputs\"][\"residue_index\"][0][:LEN],\n",
        "        \"aatype\":outs[\"inputs\"][\"aatype\"].argmax(-1)[0][:LEN],\n",
        "        \"atom_positions\":outs[\"final_atom_positions\"][:LEN],\n",
        "        \"atom_mask\":outs[\"final_atom_mask\"][:LEN]}\n",
        "  b_factors = 100.0 * outs[\"plddt\"][:LEN,None] * p[\"atom_mask\"]\n",
        "  p = protein.Protein(**p,b_factors=b_factors)\n",
        "  pdb_lines = protein.to_pdb(p)\n",
        "  with open(filename, 'w') as f:\n",
        "    f.write(pdb_lines)\n",
        "\n",
        "save_pdb(outs,\"out.pdb\")\n",
        "num_res = int(outs[\"inputs\"][\"aatype\"][0].sum())\n",
        "\n",
        "cf.show_pdb(\"out.pdb\", show_sidechains, show_mainchains, color,\n",
        "            color_HP=True, size=(800,480)).show()\n",
        "if color == \"lDDT\":\n",
        "  cf.plot_plddt_legend().show()  \n",
        "if \"pae\" in outs:\n",
        "  cf.plot_confidence(outs[\"plddt\"][:LEN]*100, outs[\"pae\"][:LEN,:LEN]).show()\n",
        "else:\n",
        "  cf.plot_confidence(outs[\"plddt\"][:LEN]*100).show()"
      ],
      "metadata": {
        "cellView": "form",
        "id": "-KbUGG4ZOp0J"
      },
      "execution_count": null,
      "outputs": []
    }
  ]
}